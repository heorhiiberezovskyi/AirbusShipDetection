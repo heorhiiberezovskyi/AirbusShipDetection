{
  "nbformat": 4,
  "nbformat_minor": 0,
  "metadata": {
    "colab": {
      "provenance": [],
      "authorship_tag": "ABX9TyPvY/7htaP3rMdjzH2SJBD6",
      "include_colab_link": true
    },
    "kernelspec": {
      "name": "python3",
      "display_name": "Python 3"
    },
    "language_info": {
      "name": "python"
    }
  },
  "cells": [
    {
      "cell_type": "markdown",
      "metadata": {
        "id": "view-in-github",
        "colab_type": "text"
      },
      "source": [
        "<a href=\"https://colab.research.google.com/github/heorhiiberezovskyi/AirbusShipDetection/blob/main/AirbusShipDetectionDataAnalysis.ipynb\" target=\"_parent\"><img src=\"https://colab.research.google.com/assets/colab-badge.svg\" alt=\"Open In Colab\"/></a>"
      ]
    },
    {
      "cell_type": "code",
      "execution_count": 5,
      "metadata": {
        "id": "jcrC0JGshIFa"
      },
      "outputs": [],
      "source": [
        "import os\n",
        "annotations_file = os.path.join('/content/train_ship_segmentations_v2.csv')\n",
        "assert os.path.exists(annotations_file)"
      ]
    },
    {
      "cell_type": "code",
      "source": [
        "import pandas as pd\n",
        "from pandas import DataFrame\n",
        "from typing import Dict, List\n",
        "\n",
        "def to_dict(table: DataFrame) -> Dict[str, List[str]]:\n",
        "    state_dict = {}\n",
        "    not_nan = table['EncodedPixels'].notna()\n",
        "    for index, row in table[not_nan].iterrows():\n",
        "        image_id = row['ImageId']\n",
        "        if image_id not in state_dict.keys():\n",
        "            state_dict[image_id] = []\n",
        "        na = row.isna()\n",
        "        if not na['EncodedPixels']:\n",
        "            state_dict[image_id].append(row['EncodedPixels'])\n",
        "    return state_dict\n"
      ],
      "metadata": {
        "id": "KnacHSXZjBzy"
      },
      "execution_count": 10,
      "outputs": []
    },
    {
      "cell_type": "code",
      "source": [
        "table = pd.read_csv(annotations_file, sep=',')\n",
        "image_names = table['ImageId'].unique().tolist()\n",
        "ships_encodings = to_dict(table)"
      ],
      "metadata": {
        "id": "JjBkyCBdjMOp"
      },
      "execution_count": 11,
      "outputs": []
    },
    {
      "cell_type": "code",
      "source": [
        "def get_ships_counts(encoded_pixels: Dict[str, List[str]], image_ids: List[str]) -> Dict[int, int]:\n",
        "    ships_counts = {}\n",
        "    for image_id in image_ids:\n",
        "        if image_id not in encoded_pixels.keys():\n",
        "            count = 0\n",
        "        else:\n",
        "            count = len(encoded_pixels[image_id])\n",
        "        if count not in ships_counts.keys():\n",
        "            ships_counts[count] = 0\n",
        "        ships_counts[count] += 1\n",
        "    result = dict(sorted(ships_counts.items()))\n",
        "    return result"
      ],
      "metadata": {
        "id": "2oFm2IG0kJzf"
      },
      "execution_count": 12,
      "outputs": []
    },
    {
      "cell_type": "code",
      "source": [
        "ships_counts = get_ships_counts(encoded_pixels=ships_encodings, image_ids=image_names)\n",
        "print(ships_counts)"
      ],
      "metadata": {
        "colab": {
          "base_uri": "https://localhost:8080/"
        },
        "id": "iWDKs7q3kLA9",
        "outputId": "219c9959-6a70-40d3-98be-2b5bb734e004"
      },
      "execution_count": 13,
      "outputs": [
        {
          "output_type": "stream",
          "name": "stdout",
          "text": [
            "{0: 150000, 1: 27104, 2: 7674, 3: 2954, 4: 1622, 5: 925, 6: 657, 7: 406, 8: 318, 9: 243, 10: 168, 11: 144, 12: 124, 13: 75, 14: 76, 15: 66}\n"
          ]
        }
      ]
    },
    {
      "cell_type": "code",
      "source": [
        "from matplotlib import pyplot as plt\n",
        "plt.bar(ships_counts.keys(), ships_counts.values())\n",
        "plt.show()"
      ],
      "metadata": {
        "colab": {
          "base_uri": "https://localhost:8080/",
          "height": 430
        },
        "id": "OLE1ctqkkSp9",
        "outputId": "bcd32ee3-d6ff-4b4a-c50f-34cfe6c291fe"
      },
      "execution_count": 14,
      "outputs": [
        {
          "output_type": "display_data",
          "data": {
            "text/plain": [
              "<Figure size 640x480 with 1 Axes>"
            ],
            "image/png": "[encoded data removed]"
          },
          "metadata": {}
        }
      ]
    }
  ]
}